{
 "cells": [
  {
   "cell_type": "code",
   "execution_count": 2,
   "metadata": {},
   "outputs": [],
   "source": [
    "import pandas as pd\n",
    "\n",
    "df_vcd = pd.read_parquet(\"data/signal/000000/vehicle_control_data.parquet\")\n",
    "df_vd = pd.read_parquet(\"data/signal/000000/vehicle_data.parquet\")\n",
    "df_sd = pd.read_parquet(\"data/signal/000000/satellite_data.parquet\")"
   ]
  },
  {
   "cell_type": "code",
   "execution_count": 6,
   "metadata": {},
   "outputs": [
    {
     "name": "stdout",
     "output_type": "stream",
     "text": [
      "(328803, 11) (164399, 19) (41103, 19)\n"
     ]
    }
   ],
   "source": [
    "print(df_vcd.shape, df_vd.shape, df_sd.shape)"
   ]
  },
  {
   "cell_type": "code",
   "execution_count": 8,
   "metadata": {},
   "outputs": [
    {
     "name": "stdout",
     "output_type": "stream",
     "text": [
      "Index(['ego_vehicle_controls/acceleration_pedal/ratio/unitless/value',\n",
      "       'ego_vehicle_controls/brake_pedal_pressed/brake_pedal_pressed_quality',\n",
      "       'ego_vehicle_controls/brake_pedal_pressed/is_brake_pedal_pressed/unitless/value',\n",
      "       'ego_vehicle_controls/steer_wheel_torque/quality_factor',\n",
      "       'ego_vehicle_controls/steer_wheel_torque/torque/newton_meters/value',\n",
      "       'ego_vehicle_controls/steering_wheel_angle/angle/radians/value',\n",
      "       'ego_vehicle_controls/steering_wheel_angle/angle_rate/radians_per_second/value',\n",
      "       'ego_vehicle_controls/steering_wheel_angle/quality_flag',\n",
      "       'ego_vehicle_controls/timestamp/nanoseconds/value',\n",
      "       'ego_vehicle_controls/turn_indicator_status/quality_factor',\n",
      "       'ego_vehicle_controls/turn_indicator_status/state'],\n",
      "      dtype='object')\n"
     ]
    }
   ],
   "source": [
    "print(df_vcd.columns)"
   ]
  },
  {
   "cell_type": "code",
   "execution_count": 9,
   "metadata": {},
   "outputs": [
    {
     "name": "stdout",
     "output_type": "stream",
     "text": [
      "Index(['ego_vehicle_data/body_height/body_height/meters/value',\n",
      "       'ego_vehicle_data/body_pitch/angle/radians/value',\n",
      "       'ego_vehicle_data/body_pitch/quality',\n",
      "       'ego_vehicle_data/lat_acc_data/acceleration/meters_per_second2/value',\n",
      "       'ego_vehicle_data/lat_acc_data/quality',\n",
      "       'ego_vehicle_data/lat_vel_data/quality',\n",
      "       'ego_vehicle_data/lat_vel_data/velocity/meters_per_second/value',\n",
      "       'ego_vehicle_data/lon_acc_data/acceleration/meters_per_second2/value',\n",
      "       'ego_vehicle_data/lon_acc_data/quality',\n",
      "       'ego_vehicle_data/lon_vel_data/quality',\n",
      "       'ego_vehicle_data/lon_vel_data/velocity/meters_per_second/value',\n",
      "       'ego_vehicle_data/pitch_rate_data/angle_rate/radians_per_second/value',\n",
      "       'ego_vehicle_data/pitch_rate_data/quality',\n",
      "       'ego_vehicle_data/roll_rate_data/angle_rate/radians_per_second/value',\n",
      "       'ego_vehicle_data/roll_rate_data/quality',\n",
      "       'ego_vehicle_data/timestamp/nanoseconds/value',\n",
      "       'ego_vehicle_data/valid/unitless/value',\n",
      "       'ego_vehicle_data/vertical_acc_data/acceleration/meters_per_second2/value',\n",
      "       'ego_vehicle_data/vertical_acc_data/quality'],\n",
      "      dtype='object')\n"
     ]
    }
   ],
   "source": [
    "print(df_vd.columns)"
   ]
  },
  {
   "cell_type": "code",
   "execution_count": 10,
   "metadata": {},
   "outputs": [
    {
     "name": "stdout",
     "output_type": "stream",
     "text": [
      "Index(['satellite/altitude/meters/value',\n",
      "       'satellite/dilution_of_precision/horizontal/unitless/value',\n",
      "       'satellite/dilution_of_precision/position/unitless/value',\n",
      "       'satellite/dilution_of_precision/time/unitless/value',\n",
      "       'satellite/dilution_of_precision/vertical/unitless/value',\n",
      "       'satellite/heading/degrees/value',\n",
      "       'satellite/latposn/nanodegrees/value',\n",
      "       'satellite/longposn/nanodegrees/value',\n",
      "       'satellite/nrof_satellites/unitless/value',\n",
      "       'satellite/speed/meters_per_second/value', 'satellite/time_syncd',\n",
      "       'satellite/timestamp/nanoseconds/value',\n",
      "       'satellite/utctime/day/day/value', 'satellite/utctime/hour/hour/value',\n",
      "       'satellite/utctime/minute/minute/value',\n",
      "       'satellite/utctime/month/month/value',\n",
      "       'satellite/utctime/sec/second/value',\n",
      "       'satellite/utctime/year/year/value', 'satellite/valid/unitless/value'],\n",
      "      dtype='object')\n"
     ]
    }
   ],
   "source": [
    "print(df_sd.columns)"
   ]
  },
  {
   "cell_type": "code",
   "execution_count": null,
   "metadata": {},
   "outputs": [],
   "source": []
  }
 ],
 "metadata": {
  "kernelspec": {
   "display_name": ".venv",
   "language": "python",
   "name": "python3"
  },
  "language_info": {
   "codemirror_mode": {
    "name": "ipython",
    "version": 3
   },
   "file_extension": ".py",
   "mimetype": "text/x-python",
   "name": "python",
   "nbconvert_exporter": "python",
   "pygments_lexer": "ipython3",
   "version": "3.10.12"
  }
 },
 "nbformat": 4,
 "nbformat_minor": 2
}
